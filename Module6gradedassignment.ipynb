{
 "cells": [
  {
   "cell_type": "markdown",
   "id": "efbe0b34-6132-4d84-81bc-082456d9174b",
   "metadata": {},
   "source": [
    "# Module 6 Peer-Graded Assignment "
   ]
  },
  {
   "cell_type": "markdown",
   "id": "9a997d52-b006-43e0-ad1e-5710422029a9",
   "metadata": {},
   "source": [
    "In this notebook, the Module 6 Graded Assignment for Data Science Tools and Ecosystem are rendered with code output."
   ]
  },
  {
   "cell_type": "markdown",
   "id": "ee4cb29d-adc9-4ad0-a5da-43d4f5b19b9b",
   "metadata": {},
   "source": [
    "Some of the popular languages that Data Scientists use are:\n",
    "\n",
    "1. Python  \n",
    "2. R  \n",
    "3. SQL  \n",
    "4. Julia  \n",
    "5. Scala  \n"
   ]
  },
  {
   "cell_type": "markdown",
   "id": "25aceb58-5bda-4e16-ac17-acd9dc18f11d",
   "metadata": {},
   "source": [
    "Some of the commonly used libraries used by Data Scientists include:\n",
    "\n",
    "1. NumPy  \n",
    "2. Pandas  \n",
    "3. Matplotlib  \n",
    "4. Scikit-learn  \n",
    "5. TensorFlow  \n"
   ]
  },
  {
   "cell_type": "markdown",
   "id": "990231e5-aa29-499e-95c6-1a4efb6d3b1b",
   "metadata": {},
   "source": [
    "Some of the commonly used Data Science tools are:\n",
    "\n",
    "| Data Science Tools |\n",
    "|--------------------|\n",
    "| Jupyter Notebook  |\n",
    "| RStudio           |\n",
    "| Spyder            |\n"
   ]
  },
  {
   "cell_type": "markdown",
   "id": "104cc5bf-5f37-4d9c-ad8a-f9520a977617",
   "metadata": {},
   "source": [
    "### Below are a few examples of evaluating arithmetic expressions in Python."
   ]
  },
  {
   "cell_type": "code",
   "execution_count": 7,
   "id": "fdda386e-603f-4edf-9edf-fd4bb918cab3",
   "metadata": {},
   "outputs": [
    {
     "data": {
      "text/plain": [
       "17"
      ]
     },
     "execution_count": 7,
     "metadata": {},
     "output_type": "execute_result"
    }
   ],
   "source": [
    "# This is a simple arithmetic expression to multiply then add integers\n",
    "(3 * 4) + 5\n"
   ]
  },
  {
   "cell_type": "code",
   "execution_count": 9,
   "id": "7d02b85d-47c9-412c-a3d2-71015b9578cb",
   "metadata": {},
   "outputs": [
    {
     "name": "stdout",
     "output_type": "stream",
     "text": [
      "135 minutes is equal to 2.25 hours\n"
     ]
    }
   ],
   "source": [
    "# Convert minutes to hours\n",
    "def convert_minutes_to_hours(minutes):\n",
    "    hours = minutes / 60\n",
    "    return hours\n",
    "\n",
    "# Example usage\n",
    "minutes = 135\n",
    "hours = convert_minutes_to_hours(minutes)\n",
    "print(f\"{minutes} minutes is equal to {hours:.2f} hours\")\n"
   ]
  },
  {
   "cell_type": "code",
   "execution_count": 11,
   "id": "b93214eb-ad2e-4b22-8d4c-a60456ece6ac",
   "metadata": {},
   "outputs": [
    {
     "name": "stdout",
     "output_type": "stream",
     "text": [
      "135 minutes is equal to 2 hours and 15 minutes\n"
     ]
    }
   ],
   "source": [
    "def convert_minutes_to_hours_and_minutes(minutes):\n",
    "    hrs = minutes // 60\n",
    "    mins = minutes % 60\n",
    "    return hrs, mins\n",
    "\n",
    "minutes = 135\n",
    "h, m = convert_minutes_to_hours_and_minutes(minutes)\n",
    "print(f\"{minutes} minutes is equal to {h} hours and {m} minutes\")\n"
   ]
  },
  {
   "cell_type": "markdown",
   "id": "2c99ae55-d663-42d5-85ca-97118b2d0559",
   "metadata": {},
   "source": [
    "**Objectives:**  \n",
    "\n",
    "- List popular languages for Data Science  \n",
    "- Identify commonly used Data Science libraries  \n",
    "- Explore key Data Science tools  \n",
    "- Perform basic arithmetic operations in Python  \n",
    "- Convert time units using Python expressions  \n"
   ]
  },
  {
   "cell_type": "markdown",
   "id": "f30e38e8-6297-4834-8a1a-1ccf03eb8d88",
   "metadata": {},
   "source": [
    "## Author  \n",
    "Asma Arshad  \n"
   ]
  },
  {
   "cell_type": "code",
   "execution_count": null,
   "id": "3c8c1da8-28ca-4988-82fa-a41fc21742f4",
   "metadata": {},
   "outputs": [],
   "source": []
  }
 ],
 "metadata": {
  "kernelspec": {
   "display_name": "Python [conda env:anaconda3]",
   "language": "python",
   "name": "conda-env-anaconda3-py"
  },
  "language_info": {
   "codemirror_mode": {
    "name": "ipython",
    "version": 3
   },
   "file_extension": ".py",
   "mimetype": "text/x-python",
   "name": "python",
   "nbconvert_exporter": "python",
   "pygments_lexer": "ipython3",
   "version": "3.12.7"
  }
 },
 "nbformat": 4,
 "nbformat_minor": 5
}
